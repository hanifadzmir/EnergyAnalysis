{
 "cells": [
  {
   "cell_type": "markdown",
   "id": "200e1741-9811-4520-baae-cb4c31fb90de",
   "metadata": {},
   "source": [
    "# Homework 2\n",
    "## EEEL 4220 Fall 2023"
   ]
  },
  {
   "cell_type": "markdown",
   "id": "d8f438a7-ed8a-4786-8123-8e65f32325b1",
   "metadata": {},
   "source": [
    "### Problem 1 Supply demand equilibrium (40)\n",
    "\n",
    "Economist estimate that the variable production cost for a product is given by the following experssion:\n",
    "$$C(q) = 0.1q^2 + 70q$$\n",
    "and the inverse demand function is\n",
    "$$\\pi = -q + 300$$\n",
    "where $q$ is quantity and $\\pi$ is the price. Calculate\n",
    "\n",
    "1. Calculate the supply function of the product. (10)\n",
    "2. Sketch the supply and demand function, calculate the demand and price at the market equilibrium (you can either use python or import a figure for the plot). (10)\n",
    "3. For this equilibrium, calculate (10)\n",
    "    * the consumers' gross surplus;\n",
    "    * the consumers' net surplus;\n",
    "    * the producers' revenue;\n",
    "    * the producers' profit;\n",
    "    * the global welfare.\n",
    "4. The government imposed a price cap of $80 per item to the product, what is the new profit the suppler will make? (5)\n",
    "5. Following 4), what is the change of the global welfare? (5)"
   ]
  },
  {
   "cell_type": "markdown",
   "id": "bf607a00",
   "metadata": {},
   "source": [
    "1. Marginal cost curve is the supply function of a product\n",
    "\n",
    "Therefore,\n",
    "$S(q) = \\frac{dC(q)}{d(q)} = 0.2q + 70$\n",
    "\n",
    "Supply function is <mark> \n",
    "$\\pi = 0.2q + 70$\n",
    "</mark>\n",
    "\n",
    "2. Plot the supply and demand function,\n",
    "where:\n",
    "\n",
    "Supply function: $$\\pi = 0.2q + 70$$\n",
    "Demand function: $$\\pi = -q + 300$$\n",
    "\n"
   ]
  },
  {
   "cell_type": "code",
   "execution_count": 13,
   "id": "d48fac77",
   "metadata": {},
   "outputs": [
    {
     "data": {
      "image/png": "[encoded data removed]",
      "text/plain": [
       "<Figure size 750x350 with 1 Axes>"
      ]
     },
     "metadata": {},
     "output_type": "display_data"
    }
   ],
   "source": [
    "import matplotlib.pyplot as plt\n",
    "import numpy as np\n",
    "\n",
    "plt.rcParams[\"figure.figsize\"] = [7.50, 3.50]\n",
    "plt.rcParams[\"figure.autolayout\"] = True\n",
    "\n",
    "def f(x):\n",
    "    return 0.2*x + 70\n",
    "def g(x):\n",
    "    return -x+300\n",
    "\n",
    "x = np.linspace(0,300)\n",
    "\n",
    "plt.plot(x, f(x), label=\"Demand Curve\")\n",
    "plt.plot(x, g(x), label= \"Supply Curve\")\n",
    "\n",
    "plt.show()"
   ]
  },
  {
   "cell_type": "markdown",
   "id": "df98af65",
   "metadata": {},
   "source": [
    "At equilibrium\n",
    "$$0.2q + 70 = -q + 300$$\n",
    "\n",
    "Quantity is: <mark>\n",
    "$q = 191.67$\n",
    "</mark>\n",
    "\n",
    "$$\\pi = 0.2(191.67) + 70$$\n",
    "\n",
    "Price is:<mark>\n",
    "$\\pi = 108.33$\n",
    "</mark>\n",
    "\n",
    "\n"
   ]
  },
  {
   "cell_type": "code",
   "execution_count": 19,
   "id": "75680a86",
   "metadata": {},
   "outputs": [
    {
     "name": "stdout",
     "output_type": "stream",
     "text": [
      "191.66666666666669 108.33333333333334\n"
     ]
    }
   ],
   "source": [
    "q = (300-70)/1.2\n",
    "pi = 0.2*q + 70\n",
    "print(q, pi)"
   ]
  },
  {
   "cell_type": "markdown",
   "id": "cefb5ade",
   "metadata": {},
   "source": [
    "3.\n",
    "- Consumer's gross surplus is the area below the demand curve up to the equilibrium point, $CS$\n",
    "- Consumer's net surplus is the area between the demand curve and the equilibrium price, $CN$\n",
    "- Producer's revenue is the area below the supply curve to the equilibrium point, $PR$\n",
    "- Producer's profit is the area between the supply curve and the equilibrium price, $PP$\n",
    "- Global Welfare is the sum of consumer's net surplus and the producer's profit, $GW$\n",
    "\n",
    "Therefore, \n",
    "<mark>\n",
    "$\n",
    "CS = 39131.94, \n",
    "CN = 18368.05, \n",
    "PR = 20763.89. \n",
    "PP = 3673.61, \n",
    "GW = 22041.67$\n",
    "</mark>\n"
   ]
  },
  {
   "cell_type": "code",
   "execution_count": 21,
   "id": "b13d5801",
   "metadata": {},
   "outputs": [
    {
     "name": "stdout",
     "output_type": "stream",
     "text": [
      "39131.94444444445 18368.055555555555 20763.888888888894 3673.611111111112 22041.666666666668\n"
     ]
    }
   ],
   "source": [
    "Consgrossplus =  ((300-pi)*q*0.5) + pi*q\n",
    "Consnetplus = ((300-pi)*q*0.5)\n",
    "Prodrev = pi*q\n",
    "Prodprofit = (pi-70)*q*0.5\n",
    "globalwelfare = Consnetplus+Prodprofit\n",
    "print(Consgrossplus,Consnetplus, Prodrev, Prodprofit, globalwelfare)\n"
   ]
  },
  {
   "cell_type": "markdown",
   "id": "c47799da",
   "metadata": {},
   "source": [
    "4. At new price, \n",
    "Producer's profit is now $PP2$\n",
    "\n",
    "<mark>\n",
    "$$\n",
    "PP2 = 958.33\n",
    "$$\n",
    "</mark>"
   ]
  },
  {
   "cell_type": "markdown",
   "id": "8aa176c9",
   "metadata": {},
   "source": []
  },
  {
   "cell_type": "code",
   "execution_count": 23,
   "id": "e8340246",
   "metadata": {},
   "outputs": [
    {
     "data": {
      "text/plain": [
       "958.3333333333335"
      ]
     },
     "execution_count": 23,
     "metadata": {},
     "output_type": "execute_result"
    }
   ],
   "source": [
    "#to supply curve\n",
    "Prodprofit2 = (80-70)*q*0.5 #new quantity \n",
    "Prodprofit2"
   ]
  },
  {
   "cell_type": "markdown",
   "id": "de109003",
   "metadata": {},
   "source": [
    "The global welfare is reduced overall. The new global welfare is <mark>$22041\n",
    "$</mark>"
   ]
  },
  {
   "cell_type": "code",
   "execution_count": 25,
   "id": "d6f39bad",
   "metadata": {},
   "outputs": [
    {
     "data": {
      "text/plain": [
       "22041.666666666668"
      ]
     },
     "execution_count": 25,
     "metadata": {},
     "output_type": "execute_result"
    }
   ],
   "source": [
    "Consnetplus2 = ((300-80)*q*0.5)\n",
    "globalwelfare2 = Prodprofit2 + Consnetplus2\n",
    "globalwelfare2"
   ]
  },
  {
   "cell_type": "markdown",
   "id": "1030a3b7-d7d3-461c-9efa-21c447b6a860",
   "metadata": {},
   "source": [
    "### Problem 2 Theory of the firm (30)\n",
    "\n",
    "A factory is planning production for the next year. The factory has the option to invest in a new machine now that would reduce the prodcution cost over the coming year. The total cost including the investment cost in the machine capacity $x$ and the production cost based on the production quantity $q$ is described below\n",
    "$$C(x,q) = x^2 + 400x + \\frac{0.5}{10+x}q^2 + 35q $$\n",
    "\n",
    "You can assume the function is concave to both $x\\geq 0$ and $q \\geq 0$ so you don't need to check the Hessian to prove your result is maximum.\n",
    "\n",
    "Calculate\n",
    "\n",
    "1. The marginal production cost function (as a function of $q$ and $x$). (5)\n",
    "2. The long-run average cost function (as a function of $q$ and $x$). (5)\n",
    "3. Assume the factory can sell the product at 100 per piece, how many products should the factory plan to produce to *maximize its profit* as a function of the investment variable $x$? (5)\n",
    "4. Following 3), what is the factory's profit at the optimal production level (as a function of $x$)? (5)\n",
    "5. Following 4), how much capacity $x$ should the factory invest at the start of the year to *maximize its profit*? (10)"
   ]
  },
  {
   "cell_type": "markdown",
   "id": "1e174592-2b00-487d-99d0-ce106628d9cb",
   "metadata": {},
   "source": [
    "### Problem 3 Demand sensitivity (30)\n",
    "Vertically integrated utilities often offer two-part tariffs to encourage their consumers to shift demand from on-peak load periods to off-peak load periods. Consumption of electrical energy during on-peak and off-peak periods can be viewed as subsitute products. \n",
    "\n",
    "A utility developed the following supply curve model to cover both on-peak/off-peak demand and consumer's incentive to shift demand between periods. The models is as follows:\n",
    "\n",
    "$$D_p = A_p \\pi_p + B_p - A_c(\\pi_p - \\pi_b)$$\n",
    "$$D_b = A_b \\pi_b + B_b + A_c(\\pi_p - \\pi_b)$$\n",
    "\n",
    "where\n",
    "* $D_p$ is the peak demand observed\n",
    "* $D_b$ is the off-peak demand observed\n",
    "* $\\pi_p$ is the on-peak price\n",
    "* $\\pi_b$ is the off-peak price\n",
    "* $A_p$, $A_b$, $A_c$, $B_p$, $B_b$ are model parameters the utility company wishes to estimate.\n",
    "\n",
    "To understand parameters in this demand model, the utility conducted the a price sensitivity experiment and recorded the following results:\n",
    "\n",
    "\n",
    "\n",
    "<style type=\"text/css\">\n",
    ".tg  {border-collapse:collapse;border-spacing:0;}\n",
    ".tg td{border-color:black;border-style:solid;border-width:1px;font-family:Arial, sans-serif;font-size:14px;\n",
    "  overflow:hidden;padding:10px 5px;word-break:normal;}\n",
    ".tg th{border-color:black;border-style:solid;border-width:1px;font-family:Arial, sans-serif;font-size:14px;\n",
    "  font-weight:normal;overflow:hidden;padding:10px 5px;word-break:normal;}\n",
    ".tg .tg-0pky{border-color:inherit;text-align:left;vertical-align:top}\n",
    "</style>\n",
    "<table class=\"tg\">\n",
    "<thead>\n",
    "  <tr>\n",
    "    <th class=\"tg-0pky\">Case</th>\n",
    "    <th class=\"tg-0pky\">On-peak<br>price $\\pi_1$<br>(cents/kWh)</th>\n",
    "    <th class=\"tg-0pky\">Off-peak<br>price $\\pi_2$<br>(cents/kWh)</th>\n",
    "    <th class=\"tg-0pky\">Average on-peak<br>demand $D_1$ (MW)</th>\n",
    "    <th class=\"tg-0pky\">Average off-peak<br>demand $D_2$ (MW)</th>\n",
    "  </tr>\n",
    "</thead>\n",
    "<tbody>\n",
    "  <tr>\n",
    "    <td class=\"tg-0pky\">Experiment 1</td>\n",
    "    <td class=\"tg-0pky\">9</td>\n",
    "    <td class=\"tg-0pky\">7</td>\n",
    "    <td class=\"tg-0pky\">11</td>\n",
    "    <td class=\"tg-0pky\">5</td>\n",
    "  </tr>\n",
    "  <tr>\n",
    "    <td class=\"tg-0pky\">Experiment 2</td>\n",
    "    <td class=\"tg-0pky\">9</td>\n",
    "    <td class=\"tg-0pky\">5</td>\n",
    "    <td class=\"tg-0pky\">10.9</td>\n",
    "    <td class=\"tg-0pky\">5.2</td>\n",
    "  </tr>\n",
    "  <tr>\n",
    "    <td class=\"tg-0pky\">Experiment 3</td>\n",
    "    <td class=\"tg-0pky\">11</td>\n",
    "    <td class=\"tg-0pky\">7</td>\n",
    "    <td class=\"tg-0pky\">10.8</td>\n",
    "    <td class=\"tg-0pky\">5.1</td>\n",
    "  </tr>\n",
    "</tbody>\n",
    "</table>\n",
    "\n",
    "Using the utility's demand model and the experiment results, answer\n",
    "\n",
    "1. Explain the practical meaning of $A_c$ (i.e., what would $A_c$ relat to in practice) (5).\n",
    "2. Calculate the value of $A_p$, $A_b$, and $A_c$ (10).\n",
    "3. What should be the on-peak demand if the utility set the on-peak rate to 12 cents per kWh and the off-peak rate to 4 cents per kWh (10).\n",
    "4. Comment on your result from 3, what could go wrong (i.e., what could be the reason if your prediction ended up being wrong) (5)?"
   ]
  },
  {
   "cell_type": "code",
   "execution_count": null,
   "id": "5c0950d6-e549-4b44-93d0-ac77be238e51",
   "metadata": {},
   "outputs": [],
   "source": []
  },
  {
   "cell_type": "code",
   "execution_count": null,
   "id": "4efeb8ef",
   "metadata": {},
   "outputs": [],
   "source": []
  }
 ],
 "metadata": {
  "kernelspec": {
   "display_name": "Python 3 (ipykernel)",
   "language": "python",
   "name": "python3"
  },
  "language_info": {
   "codemirror_mode": {
    "name": "ipython",
    "version": 3
   },
   "file_extension": ".py",
   "mimetype": "text/x-python",
   "name": "python",
   "nbconvert_exporter": "python",
   "pygments_lexer": "ipython3",
   "version": "3.10.11"
  }
 },
 "nbformat": 4,
 "nbformat_minor": 5
}
